{
 "cells": [
  {
   "cell_type": "code",
   "execution_count": 7,
   "id": "c275de8e-745b-45dd-8340-d200a6e05a17",
   "metadata": {},
   "outputs": [],
   "source": [
    "import pandas as pd\n",
    "course_name = ['Data science','Machine learning','Big data','Data engineer']\n",
    "duration = [2,3,6,4]"
   ]
  },
  {
   "cell_type": "code",
   "execution_count": 11,
   "id": "5aa5197c-d92b-4028-ac9e-842d6b50b615",
   "metadata": {},
   "outputs": [],
   "source": [
    "df = pd.DataFrame({'Course_name': course_name , 'Duration': duration})"
   ]
  },
  {
   "cell_type": "code",
   "execution_count": 12,
   "id": "1bb25b43-728e-4df0-b1db-a658263b9ef5",
   "metadata": {},
   "outputs": [
    {
     "data": {
      "text/html": [
       "<div>\n",
       "<style scoped>\n",
       "    .dataframe tbody tr th:only-of-type {\n",
       "        vertical-align: middle;\n",
       "    }\n",
       "\n",
       "    .dataframe tbody tr th {\n",
       "        vertical-align: top;\n",
       "    }\n",
       "\n",
       "    .dataframe thead th {\n",
       "        text-align: right;\n",
       "    }\n",
       "</style>\n",
       "<table border=\"1\" class=\"dataframe\">\n",
       "  <thead>\n",
       "    <tr style=\"text-align: right;\">\n",
       "      <th></th>\n",
       "      <th>Course_name</th>\n",
       "      <th>Duration</th>\n",
       "    </tr>\n",
       "  </thead>\n",
       "  <tbody>\n",
       "    <tr>\n",
       "      <th>0</th>\n",
       "      <td>Data science</td>\n",
       "      <td>2</td>\n",
       "    </tr>\n",
       "    <tr>\n",
       "      <th>1</th>\n",
       "      <td>Machine learning</td>\n",
       "      <td>3</td>\n",
       "    </tr>\n",
       "    <tr>\n",
       "      <th>2</th>\n",
       "      <td>Big data</td>\n",
       "      <td>6</td>\n",
       "    </tr>\n",
       "    <tr>\n",
       "      <th>3</th>\n",
       "      <td>Data engineer</td>\n",
       "      <td>4</td>\n",
       "    </tr>\n",
       "  </tbody>\n",
       "</table>\n",
       "</div>"
      ],
      "text/plain": [
       "        Course_name  Duration\n",
       "0      Data science         2\n",
       "1  Machine learning         3\n",
       "2          Big data         6\n",
       "3     Data engineer         4"
      ]
     },
     "execution_count": 12,
     "metadata": {},
     "output_type": "execute_result"
    }
   ],
   "source": [
    "df"
   ]
  },
  {
   "cell_type": "code",
   "execution_count": 15,
   "id": "160d3d5b-ce7b-4632-bde1-cd317c9330e9",
   "metadata": {},
   "outputs": [],
   "source": [
    "# Answer 1:-"
   ]
  },
  {
   "cell_type": "code",
   "execution_count": 14,
   "id": "107766ce-4e9c-4697-8700-b4463c0eba4a",
   "metadata": {},
   "outputs": [
    {
     "data": {
      "text/html": [
       "<div>\n",
       "<style scoped>\n",
       "    .dataframe tbody tr th:only-of-type {\n",
       "        vertical-align: middle;\n",
       "    }\n",
       "\n",
       "    .dataframe tbody tr th {\n",
       "        vertical-align: top;\n",
       "    }\n",
       "\n",
       "    .dataframe thead th {\n",
       "        text-align: right;\n",
       "    }\n",
       "</style>\n",
       "<table border=\"1\" class=\"dataframe\">\n",
       "  <thead>\n",
       "    <tr style=\"text-align: right;\">\n",
       "      <th></th>\n",
       "      <th>Course_name</th>\n",
       "      <th>Duration</th>\n",
       "    </tr>\n",
       "  </thead>\n",
       "  <tbody>\n",
       "    <tr>\n",
       "      <th>1</th>\n",
       "      <td>Machine learning</td>\n",
       "      <td>3</td>\n",
       "    </tr>\n",
       "  </tbody>\n",
       "</table>\n",
       "</div>"
      ],
      "text/plain": [
       "        Course_name  Duration\n",
       "1  Machine learning         3"
      ]
     },
     "execution_count": 14,
     "metadata": {},
     "output_type": "execute_result"
    }
   ],
   "source": [
    "df[1:2]"
   ]
  },
  {
   "cell_type": "code",
   "execution_count": 16,
   "id": "f12c1a94-be5c-4881-94f4-c510147e6271",
   "metadata": {},
   "outputs": [],
   "source": [
    "# Answer 2:- "
   ]
  },
  {
   "cell_type": "code",
   "execution_count": 17,
   "id": "36b50eeb-8040-4344-87ff-8a4f9dbd0d09",
   "metadata": {},
   "outputs": [],
   "source": [
    "# The loc() function is label based data selecting method which means that we have to pass the name of the row or column which we want to select.\n",
    "# The iloc() function is an indexed-based selecting method which means that we have to pass an integer index in the method to select a specific \n",
    "# row/column."
   ]
  },
  {
   "cell_type": "code",
   "execution_count": 18,
   "id": "6561e096-e256-4b3b-97c5-843c0cc77b87",
   "metadata": {},
   "outputs": [],
   "source": [
    "# Answer 3:-"
   ]
  },
  {
   "cell_type": "code",
   "execution_count": 20,
   "id": "140ca7ad-d225-4b5d-8658-bed0e9877ea4",
   "metadata": {},
   "outputs": [],
   "source": [
    "new_df = df.reindex([3,0,1,2])"
   ]
  },
  {
   "cell_type": "code",
   "execution_count": 21,
   "id": "edcfcb6f-43fd-45e7-a31f-3ae27944d297",
   "metadata": {},
   "outputs": [
    {
     "data": {
      "text/html": [
       "<div>\n",
       "<style scoped>\n",
       "    .dataframe tbody tr th:only-of-type {\n",
       "        vertical-align: middle;\n",
       "    }\n",
       "\n",
       "    .dataframe tbody tr th {\n",
       "        vertical-align: top;\n",
       "    }\n",
       "\n",
       "    .dataframe thead th {\n",
       "        text-align: right;\n",
       "    }\n",
       "</style>\n",
       "<table border=\"1\" class=\"dataframe\">\n",
       "  <thead>\n",
       "    <tr style=\"text-align: right;\">\n",
       "      <th></th>\n",
       "      <th>Course_name</th>\n",
       "      <th>Duration</th>\n",
       "    </tr>\n",
       "  </thead>\n",
       "  <tbody>\n",
       "    <tr>\n",
       "      <th>3</th>\n",
       "      <td>Data engineer</td>\n",
       "      <td>4</td>\n",
       "    </tr>\n",
       "    <tr>\n",
       "      <th>0</th>\n",
       "      <td>Data science</td>\n",
       "      <td>2</td>\n",
       "    </tr>\n",
       "    <tr>\n",
       "      <th>1</th>\n",
       "      <td>Machine learning</td>\n",
       "      <td>3</td>\n",
       "    </tr>\n",
       "    <tr>\n",
       "      <th>2</th>\n",
       "      <td>Big data</td>\n",
       "      <td>6</td>\n",
       "    </tr>\n",
       "  </tbody>\n",
       "</table>\n",
       "</div>"
      ],
      "text/plain": [
       "        Course_name  Duration\n",
       "3     Data engineer         4\n",
       "0      Data science         2\n",
       "1  Machine learning         3\n",
       "2          Big data         6"
      ]
     },
     "execution_count": 21,
     "metadata": {},
     "output_type": "execute_result"
    }
   ],
   "source": [
    "new_df"
   ]
  },
  {
   "cell_type": "code",
   "execution_count": 22,
   "id": "1f4aa24a-0989-4051-9077-cc0afb9e325d",
   "metadata": {},
   "outputs": [
    {
     "data": {
      "text/plain": [
       "Course_name    Big data\n",
       "Duration              6\n",
       "Name: 2, dtype: object"
      ]
     },
     "execution_count": 22,
     "metadata": {},
     "output_type": "execute_result"
    }
   ],
   "source": [
    "df.loc[2]"
   ]
  },
  {
   "cell_type": "code",
   "execution_count": 23,
   "id": "a2ce7518-87ee-4d14-89f3-02a2f886295e",
   "metadata": {},
   "outputs": [
    {
     "data": {
      "text/plain": [
       "Course_name    Big data\n",
       "Duration              6\n",
       "Name: 2, dtype: object"
      ]
     },
     "execution_count": 23,
     "metadata": {},
     "output_type": "execute_result"
    }
   ],
   "source": [
    "df.iloc[2]"
   ]
  },
  {
   "cell_type": "code",
   "execution_count": 24,
   "id": "f6778ecd-491d-45db-86ba-2ecbbeb6c3c9",
   "metadata": {},
   "outputs": [],
   "source": [
    "# No, there is no dfference."
   ]
  },
  {
   "cell_type": "code",
   "execution_count": 25,
   "id": "c293a260-aaa4-465e-a93c-0c29a88cde20",
   "metadata": {},
   "outputs": [],
   "source": [
    "import numpy as np"
   ]
  },
  {
   "cell_type": "code",
   "execution_count": 45,
   "id": "ae0dbc33-f823-4474-b1d4-8fdb44d9155d",
   "metadata": {},
   "outputs": [],
   "source": [
    "columns = ['column1','column2','column3','column4','column5','column6']\n",
    "indices = [1,2,3,4,5,6]\n",
    "df = pd.DataFrame(np.random.rand(6,6) , columns = columns , index = indices )"
   ]
  },
  {
   "cell_type": "code",
   "execution_count": 32,
   "id": "fa50e7b6-d84b-4eac-ae86-eab618a94b24",
   "metadata": {},
   "outputs": [],
   "source": [
    "# Answer 4:-"
   ]
  },
  {
   "cell_type": "code",
   "execution_count": 46,
   "id": "07a01737-ac58-4bc2-ba3c-6d0244c92587",
   "metadata": {},
   "outputs": [
    {
     "data": {
      "text/html": [
       "<div>\n",
       "<style scoped>\n",
       "    .dataframe tbody tr th:only-of-type {\n",
       "        vertical-align: middle;\n",
       "    }\n",
       "\n",
       "    .dataframe tbody tr th {\n",
       "        vertical-align: top;\n",
       "    }\n",
       "\n",
       "    .dataframe thead th {\n",
       "        text-align: right;\n",
       "    }\n",
       "</style>\n",
       "<table border=\"1\" class=\"dataframe\">\n",
       "  <thead>\n",
       "    <tr style=\"text-align: right;\">\n",
       "      <th></th>\n",
       "      <th>column1</th>\n",
       "      <th>column2</th>\n",
       "      <th>column3</th>\n",
       "      <th>column4</th>\n",
       "      <th>column5</th>\n",
       "      <th>column6</th>\n",
       "    </tr>\n",
       "  </thead>\n",
       "  <tbody>\n",
       "    <tr>\n",
       "      <th>1</th>\n",
       "      <td>0.694435</td>\n",
       "      <td>0.033419</td>\n",
       "      <td>0.420747</td>\n",
       "      <td>0.394001</td>\n",
       "      <td>0.422793</td>\n",
       "      <td>0.524085</td>\n",
       "    </tr>\n",
       "    <tr>\n",
       "      <th>2</th>\n",
       "      <td>0.350428</td>\n",
       "      <td>0.014698</td>\n",
       "      <td>0.944829</td>\n",
       "      <td>0.887453</td>\n",
       "      <td>0.409867</td>\n",
       "      <td>0.537698</td>\n",
       "    </tr>\n",
       "    <tr>\n",
       "      <th>3</th>\n",
       "      <td>0.361416</td>\n",
       "      <td>0.586316</td>\n",
       "      <td>0.756844</td>\n",
       "      <td>0.358198</td>\n",
       "      <td>0.172073</td>\n",
       "      <td>0.750029</td>\n",
       "    </tr>\n",
       "    <tr>\n",
       "      <th>4</th>\n",
       "      <td>0.769439</td>\n",
       "      <td>0.282893</td>\n",
       "      <td>0.958587</td>\n",
       "      <td>0.336730</td>\n",
       "      <td>0.256123</td>\n",
       "      <td>0.214511</td>\n",
       "    </tr>\n",
       "    <tr>\n",
       "      <th>5</th>\n",
       "      <td>0.102397</td>\n",
       "      <td>0.076147</td>\n",
       "      <td>0.648031</td>\n",
       "      <td>0.033363</td>\n",
       "      <td>0.289641</td>\n",
       "      <td>0.546973</td>\n",
       "    </tr>\n",
       "    <tr>\n",
       "      <th>6</th>\n",
       "      <td>0.167829</td>\n",
       "      <td>0.788017</td>\n",
       "      <td>0.706758</td>\n",
       "      <td>0.273442</td>\n",
       "      <td>0.784600</td>\n",
       "      <td>0.179698</td>\n",
       "    </tr>\n",
       "  </tbody>\n",
       "</table>\n",
       "</div>"
      ],
      "text/plain": [
       "    column1   column2   column3   column4   column5   column6\n",
       "1  0.694435  0.033419  0.420747  0.394001  0.422793  0.524085\n",
       "2  0.350428  0.014698  0.944829  0.887453  0.409867  0.537698\n",
       "3  0.361416  0.586316  0.756844  0.358198  0.172073  0.750029\n",
       "4  0.769439  0.282893  0.958587  0.336730  0.256123  0.214511\n",
       "5  0.102397  0.076147  0.648031  0.033363  0.289641  0.546973\n",
       "6  0.167829  0.788017  0.706758  0.273442  0.784600  0.179698"
      ]
     },
     "execution_count": 46,
     "metadata": {},
     "output_type": "execute_result"
    }
   ],
   "source": [
    "df"
   ]
  },
  {
   "cell_type": "code",
   "execution_count": 47,
   "id": "e9d6ddbd-d115-40a8-a274-9c85b7e3eb85",
   "metadata": {},
   "outputs": [
    {
     "data": {
      "text/plain": [
       "column1    0.407657\n",
       "column2    0.296915\n",
       "column3    0.739299\n",
       "column4    0.380531\n",
       "column5    0.389183\n",
       "column6    0.458832\n",
       "dtype: float64"
      ]
     },
     "execution_count": 47,
     "metadata": {},
     "output_type": "execute_result"
    }
   ],
   "source": [
    "df.mean()"
   ]
  },
  {
   "cell_type": "code",
   "execution_count": 48,
   "id": "65edb0f3-c3d4-46ae-997f-e1461d3a2eae",
   "metadata": {},
   "outputs": [
    {
     "data": {
      "text/plain": [
       "0.32340229018727973"
      ]
     },
     "execution_count": 48,
     "metadata": {},
     "output_type": "execute_result"
    }
   ],
   "source": [
    "df['column2'].std()"
   ]
  },
  {
   "cell_type": "code",
   "execution_count": 49,
   "id": "088eabe1-fa3a-4cd9-876c-1463c18a2542",
   "metadata": {},
   "outputs": [],
   "source": [
    "# Answer 5:-"
   ]
  },
  {
   "cell_type": "code",
   "execution_count": 60,
   "id": "9dc0c029-ba82-4e95-8570-bc5b6a21de00",
   "metadata": {},
   "outputs": [
    {
     "name": "stderr",
     "output_type": "stream",
     "text": [
      "C:\\Users\\hustl\\AppData\\Local\\Temp\\ipykernel_10072\\1227183798.py:1: FutureWarning: Setting an item of incompatible dtype is deprecated and will raise an error in a future version of pandas. Value 'abc' has dtype incompatible with float64, please explicitly cast to a compatible dtype first.\n",
      "  df.iloc[1,1] = 'abc'\n"
     ]
    }
   ],
   "source": [
    "df.iloc[1,1] = 'abc'"
   ]
  },
  {
   "cell_type": "code",
   "execution_count": 61,
   "id": "e5792a68-389e-45a4-a946-4a57a7598929",
   "metadata": {},
   "outputs": [
    {
     "data": {
      "text/html": [
       "<div>\n",
       "<style scoped>\n",
       "    .dataframe tbody tr th:only-of-type {\n",
       "        vertical-align: middle;\n",
       "    }\n",
       "\n",
       "    .dataframe tbody tr th {\n",
       "        vertical-align: top;\n",
       "    }\n",
       "\n",
       "    .dataframe thead th {\n",
       "        text-align: right;\n",
       "    }\n",
       "</style>\n",
       "<table border=\"1\" class=\"dataframe\">\n",
       "  <thead>\n",
       "    <tr style=\"text-align: right;\">\n",
       "      <th></th>\n",
       "      <th>column1</th>\n",
       "      <th>column2</th>\n",
       "      <th>column3</th>\n",
       "      <th>column4</th>\n",
       "      <th>column5</th>\n",
       "      <th>column6</th>\n",
       "    </tr>\n",
       "  </thead>\n",
       "  <tbody>\n",
       "    <tr>\n",
       "      <th>1</th>\n",
       "      <td>0.694435</td>\n",
       "      <td>0.033419</td>\n",
       "      <td>0.420747</td>\n",
       "      <td>0.394001</td>\n",
       "      <td>0.422793</td>\n",
       "      <td>0.524085</td>\n",
       "    </tr>\n",
       "    <tr>\n",
       "      <th>2</th>\n",
       "      <td>0.350428</td>\n",
       "      <td>abc</td>\n",
       "      <td>0.944829</td>\n",
       "      <td>0.887453</td>\n",
       "      <td>0.409867</td>\n",
       "      <td>0.537698</td>\n",
       "    </tr>\n",
       "    <tr>\n",
       "      <th>3</th>\n",
       "      <td>0.361416</td>\n",
       "      <td>0.586316</td>\n",
       "      <td>0.756844</td>\n",
       "      <td>0.358198</td>\n",
       "      <td>0.172073</td>\n",
       "      <td>0.750029</td>\n",
       "    </tr>\n",
       "    <tr>\n",
       "      <th>4</th>\n",
       "      <td>0.769439</td>\n",
       "      <td>0.282893</td>\n",
       "      <td>0.958587</td>\n",
       "      <td>0.336730</td>\n",
       "      <td>0.256123</td>\n",
       "      <td>0.214511</td>\n",
       "    </tr>\n",
       "    <tr>\n",
       "      <th>5</th>\n",
       "      <td>0.102397</td>\n",
       "      <td>0.076147</td>\n",
       "      <td>0.648031</td>\n",
       "      <td>0.033363</td>\n",
       "      <td>0.289641</td>\n",
       "      <td>0.546973</td>\n",
       "    </tr>\n",
       "    <tr>\n",
       "      <th>6</th>\n",
       "      <td>0.167829</td>\n",
       "      <td>0.788017</td>\n",
       "      <td>0.706758</td>\n",
       "      <td>0.273442</td>\n",
       "      <td>0.784600</td>\n",
       "      <td>0.179698</td>\n",
       "    </tr>\n",
       "  </tbody>\n",
       "</table>\n",
       "</div>"
      ],
      "text/plain": [
       "    column1   column2   column3   column4   column5   column6\n",
       "1  0.694435  0.033419  0.420747  0.394001  0.422793  0.524085\n",
       "2  0.350428       abc  0.944829  0.887453  0.409867  0.537698\n",
       "3  0.361416  0.586316  0.756844  0.358198  0.172073  0.750029\n",
       "4  0.769439  0.282893  0.958587  0.336730  0.256123  0.214511\n",
       "5  0.102397  0.076147  0.648031  0.033363  0.289641  0.546973\n",
       "6  0.167829  0.788017  0.706758  0.273442  0.784600  0.179698"
      ]
     },
     "execution_count": 61,
     "metadata": {},
     "output_type": "execute_result"
    }
   ],
   "source": [
    "df"
   ]
  },
  {
   "cell_type": "code",
   "execution_count": 70,
   "id": "419bd03a-217a-44b2-aadf-3593560450af",
   "metadata": {},
   "outputs": [
    {
     "name": "stdout",
     "output_type": "stream",
     "text": [
      "unsupported operand  unsupported operand type(s) for +: 'float' and 'str'\n"
     ]
    }
   ],
   "source": [
    "try :\n",
    "    df['column2'].mean()\n",
    "except TypeError as e :\n",
    "    print('unsupported operand ',e)"
   ]
  },
  {
   "cell_type": "code",
   "execution_count": 71,
   "id": "b814e757-6f4f-4514-9177-89c72f36d1ad",
   "metadata": {},
   "outputs": [],
   "source": [
    "# The error appears because of different datatype i.e string."
   ]
  },
  {
   "cell_type": "code",
   "execution_count": 72,
   "id": "d39ab6a6-8d78-4da7-ae73-94302578a570",
   "metadata": {},
   "outputs": [],
   "source": [
    "# Answer 6:-"
   ]
  },
  {
   "cell_type": "code",
   "execution_count": 73,
   "id": "72f79ffe-0c79-4003-8aa0-e0bc569ca2e1",
   "metadata": {},
   "outputs": [],
   "source": [
    "# Pandas Window functions are functions where the input values are taken from a “window” of one or more rows in a series or a table and \n",
    "# calculation is performed over them.\n",
    "# pandas supports 4 types of windowing operations:\n",
    "# Rolling window\n",
    "# Weighted window\n",
    "# Expanding window\n",
    "# Exponentially Weighted window"
   ]
  },
  {
   "cell_type": "code",
   "execution_count": 74,
   "id": "2e60864e-cfd8-4cbe-813b-feb01137f9ef",
   "metadata": {},
   "outputs": [],
   "source": [
    "# Answer 7:-"
   ]
  },
  {
   "cell_type": "code",
   "execution_count": 86,
   "id": "17271b30-bb36-4d51-b2a7-ac898a632874",
   "metadata": {},
   "outputs": [],
   "source": [
    "data = {'ans_time': ['07-07-2024', '08-07-2024',\n",
    "                           '10-07-2024', '09-07-2024']}"
   ]
  },
  {
   "cell_type": "code",
   "execution_count": 87,
   "id": "a34443e3-005b-4c32-9516-3617ca920b04",
   "metadata": {},
   "outputs": [],
   "source": [
    "df = pd.DataFrame(data)"
   ]
  },
  {
   "cell_type": "code",
   "execution_count": 88,
   "id": "f8b58ba5-bdd2-4adc-9fc5-8b64f16ab9ab",
   "metadata": {},
   "outputs": [],
   "source": [
    "df['year'] = pd.DatetimeIndex(df['ans_time']).year\n",
    "df['month'] = pd.DatetimeIndex(df['ans_time']).month"
   ]
  },
  {
   "cell_type": "code",
   "execution_count": 89,
   "id": "d0dce0ef-bd3f-4745-8dfc-b77e434055fe",
   "metadata": {},
   "outputs": [
    {
     "data": {
      "text/html": [
       "<div>\n",
       "<style scoped>\n",
       "    .dataframe tbody tr th:only-of-type {\n",
       "        vertical-align: middle;\n",
       "    }\n",
       "\n",
       "    .dataframe tbody tr th {\n",
       "        vertical-align: top;\n",
       "    }\n",
       "\n",
       "    .dataframe thead th {\n",
       "        text-align: right;\n",
       "    }\n",
       "</style>\n",
       "<table border=\"1\" class=\"dataframe\">\n",
       "  <thead>\n",
       "    <tr style=\"text-align: right;\">\n",
       "      <th></th>\n",
       "      <th>ans_time</th>\n",
       "      <th>year</th>\n",
       "      <th>month</th>\n",
       "    </tr>\n",
       "  </thead>\n",
       "  <tbody>\n",
       "    <tr>\n",
       "      <th>0</th>\n",
       "      <td>07-07-2024</td>\n",
       "      <td>2024</td>\n",
       "      <td>7</td>\n",
       "    </tr>\n",
       "    <tr>\n",
       "      <th>1</th>\n",
       "      <td>08-07-2024</td>\n",
       "      <td>2024</td>\n",
       "      <td>8</td>\n",
       "    </tr>\n",
       "    <tr>\n",
       "      <th>2</th>\n",
       "      <td>10-07-2024</td>\n",
       "      <td>2024</td>\n",
       "      <td>10</td>\n",
       "    </tr>\n",
       "    <tr>\n",
       "      <th>3</th>\n",
       "      <td>09-07-2024</td>\n",
       "      <td>2024</td>\n",
       "      <td>9</td>\n",
       "    </tr>\n",
       "  </tbody>\n",
       "</table>\n",
       "</div>"
      ],
      "text/plain": [
       "     ans_time  year  month\n",
       "0  07-07-2024  2024      7\n",
       "1  08-07-2024  2024      8\n",
       "2  10-07-2024  2024     10\n",
       "3  09-07-2024  2024      9"
      ]
     },
     "execution_count": 89,
     "metadata": {},
     "output_type": "execute_result"
    }
   ],
   "source": [
    "df"
   ]
  },
  {
   "cell_type": "code",
   "execution_count": 90,
   "id": "a632be28-508b-44b0-81ad-57d2203577de",
   "metadata": {},
   "outputs": [],
   "source": [
    "# Answer 8:-"
   ]
  },
  {
   "cell_type": "code",
   "execution_count": 99,
   "id": "0716a78a-50a1-4e04-bffd-84c13d4c8596",
   "metadata": {},
   "outputs": [
    {
     "name": "stdout",
     "output_type": "stream",
     "text": [
      "           start_time            end_time  hours_diff  min_diff  sec_diff\n",
      "0 2020-05-25 00:00:00 2020-05-26 00:00:00       24.00    1440.0   86400.0\n",
      "1 2020-05-25 00:15:00 2020-05-26 00:30:00       24.25    1455.0   87300.0\n",
      "2 2020-05-25 00:30:00 2020-05-26 01:00:00       24.50    1470.0   88200.0\n",
      "3 2020-05-25 00:45:00 2020-05-26 01:30:00       24.75    1485.0   89100.0\n",
      "4 2020-05-25 01:00:00 2020-05-26 02:00:00       25.00    1500.0   90000.0\n",
      "5 2020-05-25 01:15:00 2020-05-26 02:30:00       25.25    1515.0   90900.0\n"
     ]
    }
   ],
   "source": [
    "import pandas as pd\n",
    "\n",
    "df = pd.DataFrame({\n",
    "    'start_time': pd.date_range(start='5/25/2020', periods=6, freq='15min'),\n",
    "    'end_time': pd.date_range(start='5/26/2020', periods=6, freq='30min')\n",
    "})\n",
    "\n",
    "# Calculate time difference in hours\n",
    "df['hours_diff'] = (df['end_time'] - df['start_time']) / pd.Timedelta(hours=1)\n",
    "\n",
    "# Calculate time difference in minutes\n",
    "df['min_diff'] = (df['end_time'] - df['start_time']) / pd.Timedelta(minutes=1)\n",
    "\n",
    "# Calculate time difference in seconds\n",
    "df['sec_diff'] = (df['end_time'] - df['start_time']) / pd.Timedelta(seconds=1)\n",
    "\n",
    "# View updated DataFrame\n",
    "print(df)\n"
   ]
  },
  {
   "cell_type": "code",
   "execution_count": 1,
   "id": "f2f0350f-28da-46ec-9c4a-762c09dd2473",
   "metadata": {},
   "outputs": [],
   "source": [
    "# Answer 9:-"
   ]
  },
  {
   "cell_type": "code",
   "execution_count": 2,
   "id": "fef0b649-3549-4bf8-b7ab-b36cb9d33bfc",
   "metadata": {},
   "outputs": [],
   "source": [
    "import pandas as pd"
   ]
  },
  {
   "cell_type": "code",
   "execution_count": 14,
   "id": "8cc4e425-c296-4945-bb8c-70a173b45f85",
   "metadata": {},
   "outputs": [],
   "source": [
    "def convert_to_categorial_and_sort(file_path,column_name,category_order):\n",
    "    try:\n",
    "        df = pd.read_csv(file_path)\n",
    "        df['column_name'] = pd.Categorical(df['column_name'], categories = category_order, ordered=True)\n",
    "        sorted_df = df.sort_values(by=column_name)\n",
    "        return sorted_df\n",
    "    except Exception as e:\n",
    "        print(f\"Error: {e}\")\n",
    "        "
   ]
  },
  {
   "cell_type": "code",
   "execution_count": 20,
   "id": "39505fb7-b1cb-4838-bdd4-dde314832546",
   "metadata": {},
   "outputs": [
    {
     "ename": "NameError",
     "evalue": "name 'category_order' is not defined",
     "output_type": "error",
     "traceback": [
      "\u001b[1;31m---------------------------------------------------------------------------\u001b[0m",
      "\u001b[1;31mNameError\u001b[0m                                 Traceback (most recent call last)",
      "Cell \u001b[1;32mIn[20], line 4\u001b[0m\n\u001b[0;32m      2\u001b[0m file_path \u001b[38;5;241m=\u001b[39m \u001b[38;5;124m'\u001b[39m\u001b[38;5;124mC:\u001b[39m\u001b[38;5;130;01m\\\\\u001b[39;00m\u001b[38;5;124mUsers\u001b[39m\u001b[38;5;130;01m\\\\\u001b[39;00m\u001b[38;5;124mhustl\u001b[39m\u001b[38;5;130;01m\\\\\u001b[39;00m\u001b[38;5;124mDownloads\u001b[39m\u001b[38;5;130;01m\\\\\u001b[39;00m\u001b[38;5;124mPlayers_data.csv\u001b[39m\u001b[38;5;124m'\u001b[39m\n\u001b[0;32m      3\u001b[0m column_name \u001b[38;5;241m=\u001b[39m \u001b[38;5;124m'\u001b[39m\u001b[38;5;124mPos\u001b[39m\u001b[38;5;124m'\u001b[39m\n\u001b[1;32m----> 4\u001b[0m category_order \u001b[38;5;241m=\u001b[39m [cat\u001b[38;5;241m.\u001b[39mstrip() \u001b[38;5;28;01mfor\u001b[39;00m cat \u001b[38;5;129;01min\u001b[39;00m \u001b[43mcategory_order\u001b[49m\u001b[38;5;241m.\u001b[39msplit(\u001b[38;5;124m'\u001b[39m\u001b[38;5;124m,\u001b[39m\u001b[38;5;124m'\u001b[39m)]\n\u001b[0;32m      5\u001b[0m sorted_data \u001b[38;5;241m=\u001b[39m convert_to_categorial_and_sort(file_path,column_name,category_order)\n\u001b[0;32m      6\u001b[0m \u001b[38;5;28mprint\u001b[39m(\u001b[38;5;124m'\u001b[39m\u001b[38;5;130;01m\\n\u001b[39;00m\u001b[38;5;124mSorted Data:\u001b[39m\u001b[38;5;124m'\u001b[39m)\n",
      "\u001b[1;31mNameError\u001b[0m: name 'category_order' is not defined"
     ]
    }
   ],
   "source": [
    "if __name__ == \"__main__\":\n",
    "    file_path = 'C:\\\\Users\\\\hustl\\\\Downloads\\\\Players_data.csv'\n",
    "    column_name = 'Pos'\n",
    "    category_order = [cat.strip() for cat in category_order.split(',')]\n",
    "    sorted_data = convert_to_categorial_and_sort(file_path,column_name,category_order)\n",
    "    print('\\nSorted Data:')\n",
    "    print(sorted_data)"
   ]
  },
  {
   "cell_type": "code",
   "execution_count": 21,
   "id": "83701343-a005-488a-8da2-274d65060f13",
   "metadata": {},
   "outputs": [],
   "source": [
    "# Answer 10:-"
   ]
  },
  {
   "cell_type": "code",
   "execution_count": 24,
   "id": "c1054005-1011-40c3-af88-cff9ade55776",
   "metadata": {},
   "outputs": [],
   "source": [
    "data = pd.DataFrame({'Date':['2024-12-08','2024-02-23','2024-11-23','2024-10-30'],'Products Category':['Washing machine','TV','Table','Air conditioner'],'Units sold':[250,400,345,204]})"
   ]
  },
  {
   "cell_type": "code",
   "execution_count": 25,
   "id": "959e8a9f-34f1-465e-9074-00e7a7452bd9",
   "metadata": {},
   "outputs": [
    {
     "data": {
      "text/html": [
       "<div>\n",
       "<style scoped>\n",
       "    .dataframe tbody tr th:only-of-type {\n",
       "        vertical-align: middle;\n",
       "    }\n",
       "\n",
       "    .dataframe tbody tr th {\n",
       "        vertical-align: top;\n",
       "    }\n",
       "\n",
       "    .dataframe thead th {\n",
       "        text-align: right;\n",
       "    }\n",
       "</style>\n",
       "<table border=\"1\" class=\"dataframe\">\n",
       "  <thead>\n",
       "    <tr style=\"text-align: right;\">\n",
       "      <th></th>\n",
       "      <th>Date</th>\n",
       "      <th>Products Category</th>\n",
       "      <th>Units sold</th>\n",
       "    </tr>\n",
       "  </thead>\n",
       "  <tbody>\n",
       "    <tr>\n",
       "      <th>0</th>\n",
       "      <td>2024-12-08</td>\n",
       "      <td>Washing machine</td>\n",
       "      <td>250</td>\n",
       "    </tr>\n",
       "    <tr>\n",
       "      <th>1</th>\n",
       "      <td>2024-02-23</td>\n",
       "      <td>TV</td>\n",
       "      <td>400</td>\n",
       "    </tr>\n",
       "    <tr>\n",
       "      <th>2</th>\n",
       "      <td>2024-11-23</td>\n",
       "      <td>Table</td>\n",
       "      <td>345</td>\n",
       "    </tr>\n",
       "    <tr>\n",
       "      <th>3</th>\n",
       "      <td>2024-10-30</td>\n",
       "      <td>Air conditioner</td>\n",
       "      <td>204</td>\n",
       "    </tr>\n",
       "  </tbody>\n",
       "</table>\n",
       "</div>"
      ],
      "text/plain": [
       "         Date Products Category  Units sold\n",
       "0  2024-12-08   Washing machine         250\n",
       "1  2024-02-23                TV         400\n",
       "2  2024-11-23             Table         345\n",
       "3  2024-10-30   Air conditioner         204"
      ]
     },
     "execution_count": 25,
     "metadata": {},
     "output_type": "execute_result"
    }
   ],
   "source": [
    "data"
   ]
  },
  {
   "cell_type": "code",
   "execution_count": 27,
   "id": "a865dddd-420c-4577-a57d-92bc114d3dfc",
   "metadata": {},
   "outputs": [],
   "source": [
    "data.to_csv('data')"
   ]
  },
  {
   "cell_type": "code",
   "execution_count": 28,
   "id": "5b078f09-9f59-49a5-bca6-e4d7fe8f6309",
   "metadata": {},
   "outputs": [],
   "source": [
    "df = pd.read_csv('data')"
   ]
  },
  {
   "cell_type": "code",
   "execution_count": 34,
   "id": "b4ae4c66-c1b7-4e04-8e34-37c02cf4c30c",
   "metadata": {},
   "outputs": [
    {
     "data": {
      "text/plain": [
       "<Axes: title={'center': 'Sales of each product category over time'}, xlabel='Date'>"
      ]
     },
     "execution_count": 34,
     "metadata": {},
     "output_type": "execute_result"
    },
    {
     "data": {
      "image/png": "[encoded data removed]",
      "text/plain": [
       "<Figure size 640x480 with 1 Axes>"
      ]
     },
     "metadata": {},
     "output_type": "display_data"
    }
   ],
   "source": [
    "df.plot(kind='bar',stacked=True,title='Sales of each product category over time',x='Date',y='Units sold')"
   ]
  },
  {
   "cell_type": "code",
   "execution_count": 36,
   "id": "091ee0c4-46ab-4fa2-89b6-9cf6b4b83ff5",
   "metadata": {},
   "outputs": [],
   "source": [
    "# Answer 11:-"
   ]
  },
  {
   "cell_type": "code",
   "execution_count": 38,
   "id": "92e69e5a-c9b8-465b-8d0f-d0a11bef5e33",
   "metadata": {},
   "outputs": [],
   "source": [
    "df = pd.DataFrame({'Student id':[1,2,3,4,5,6,7,8,9,10],'Test score':[85,90,80,75,85,82,78,85,90,85]})"
   ]
  },
  {
   "cell_type": "code",
   "execution_count": 39,
   "id": "7f9a67fa-097d-450c-ac9a-f2d2d1fe52be",
   "metadata": {},
   "outputs": [],
   "source": [
    "df1 = df.to_csv('df')"
   ]
  },
  {
   "cell_type": "code",
   "execution_count": 41,
   "id": "eb67d8dc-5a71-434b-8612-6a12f5297aeb",
   "metadata": {},
   "outputs": [
    {
     "data": {
      "text/plain": [
       "83.5"
      ]
     },
     "execution_count": 41,
     "metadata": {},
     "output_type": "execute_result"
    }
   ],
   "source": [
    "df['Test score'].mean()"
   ]
  },
  {
   "cell_type": "code",
   "execution_count": 42,
   "id": "e04220d0-6a50-475e-a56a-5011daecb13f",
   "metadata": {},
   "outputs": [
    {
     "data": {
      "text/plain": [
       "85.0"
      ]
     },
     "execution_count": 42,
     "metadata": {},
     "output_type": "execute_result"
    }
   ],
   "source": [
    "df['Test score'].median()"
   ]
  },
  {
   "cell_type": "code",
   "execution_count": 43,
   "id": "b1ccf7a2-7c5b-4c77-80dc-fe0a92791c15",
   "metadata": {},
   "outputs": [
    {
     "data": {
      "text/plain": [
       "0    85\n",
       "Name: Test score, dtype: int64"
      ]
     },
     "execution_count": 43,
     "metadata": {},
     "output_type": "execute_result"
    }
   ],
   "source": [
    "df['Test score'].mode()"
   ]
  },
  {
   "cell_type": "code",
   "execution_count": null,
   "id": "c73337dc-d5ff-42c8-a9cd-316a48ded0ab",
   "metadata": {},
   "outputs": [],
   "source": []
  }
 ],
 "metadata": {
  "kernelspec": {
   "display_name": "Python 3 (ipykernel)",
   "language": "python",
   "name": "python3"
  },
  "language_info": {
   "codemirror_mode": {
    "name": "ipython",
    "version": 3
   },
   "file_extension": ".py",
   "mimetype": "text/x-python",
   "name": "python",
   "nbconvert_exporter": "python",
   "pygments_lexer": "ipython3",
   "version": "3.12.4"
  }
 },
 "nbformat": 4,
 "nbformat_minor": 5
}
